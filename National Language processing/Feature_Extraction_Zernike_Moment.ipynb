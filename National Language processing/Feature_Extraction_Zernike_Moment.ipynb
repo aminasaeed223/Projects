{
  "nbformat": 4,
  "nbformat_minor": 0,
  "metadata": {
    "colab": {
      "provenance": [],
      "gpuType": "V28"
    },
    "kernelspec": {
      "name": "python3",
      "display_name": "Python 3"
    },
    "language_info": {
      "name": "python"
    },
    "accelerator": "TPU"
  },
  "cells": [
    {
      "cell_type": "code",
      "source": [
        "# Install required packages\n",
        "!pip install transformers torchvision opencv-python numpy scikit-learn opencv-contrib-python"
      ],
      "metadata": {
        "colab": {
          "base_uri": "https://localhost:8080/"
        },
        "id": "2Kv-Pxg4Xaww",
        "outputId": "0399a16c-2d97-4b63-e944-8d3df5b27202"
      },
      "execution_count": 1,
      "outputs": [
        {
          "output_type": "stream",
          "name": "stdout",
          "text": [
            "Requirement already satisfied: transformers in /usr/local/lib/python3.11/dist-packages (4.50.0)\n",
            "Requirement already satisfied: torchvision in /usr/local/lib/python3.11/dist-packages (0.21.0+cpu)\n",
            "Collecting opencv-python\n",
            "  Downloading opencv_python-4.11.0.86-cp37-abi3-manylinux_2_17_x86_64.manylinux2014_x86_64.whl.metadata (20 kB)\n",
            "Requirement already satisfied: numpy in /usr/local/lib/python3.11/dist-packages (2.0.2)\n",
            "Requirement already satisfied: scikit-learn in /usr/local/lib/python3.11/dist-packages (1.6.1)\n",
            "Collecting opencv-contrib-python\n",
            "  Downloading opencv_contrib_python-4.11.0.86-cp37-abi3-manylinux_2_17_x86_64.manylinux2014_x86_64.whl.metadata (20 kB)\n",
            "Requirement already satisfied: filelock in /usr/local/lib/python3.11/dist-packages (from transformers) (3.18.0)\n",
            "Requirement already satisfied: huggingface-hub<1.0,>=0.26.0 in /usr/local/lib/python3.11/dist-packages (from transformers) (0.29.3)\n",
            "Requirement already satisfied: packaging>=20.0 in /usr/local/lib/python3.11/dist-packages (from transformers) (24.2)\n",
            "Requirement already satisfied: pyyaml>=5.1 in /usr/local/lib/python3.11/dist-packages (from transformers) (6.0.2)\n",
            "Requirement already satisfied: regex!=2019.12.17 in /usr/local/lib/python3.11/dist-packages (from transformers) (2024.11.6)\n",
            "Requirement already satisfied: requests in /usr/local/lib/python3.11/dist-packages (from transformers) (2.32.3)\n",
            "Requirement already satisfied: tokenizers<0.22,>=0.21 in /usr/local/lib/python3.11/dist-packages (from transformers) (0.21.1)\n",
            "Requirement already satisfied: safetensors>=0.4.3 in /usr/local/lib/python3.11/dist-packages (from transformers) (0.5.3)\n",
            "Requirement already satisfied: tqdm>=4.27 in /usr/local/lib/python3.11/dist-packages (from transformers) (4.67.1)\n",
            "Requirement already satisfied: torch==2.6.0 in /usr/local/lib/python3.11/dist-packages (from torchvision) (2.6.0+cpu)\n",
            "Requirement already satisfied: pillow!=8.3.*,>=5.3.0 in /usr/local/lib/python3.11/dist-packages (from torchvision) (11.1.0)\n",
            "Requirement already satisfied: typing-extensions>=4.10.0 in /usr/local/lib/python3.11/dist-packages (from torch==2.6.0->torchvision) (4.12.2)\n",
            "Requirement already satisfied: networkx in /usr/local/lib/python3.11/dist-packages (from torch==2.6.0->torchvision) (3.4.2)\n",
            "Requirement already satisfied: jinja2 in /usr/local/lib/python3.11/dist-packages (from torch==2.6.0->torchvision) (3.1.6)\n",
            "Requirement already satisfied: fsspec in /usr/local/lib/python3.11/dist-packages (from torch==2.6.0->torchvision) (2025.3.0)\n",
            "Requirement already satisfied: sympy==1.13.1 in /usr/local/lib/python3.11/dist-packages (from torch==2.6.0->torchvision) (1.13.1)\n",
            "Requirement already satisfied: mpmath<1.4,>=1.1.0 in /usr/local/lib/python3.11/dist-packages (from sympy==1.13.1->torch==2.6.0->torchvision) (1.3.0)\n",
            "Requirement already satisfied: scipy>=1.6.0 in /usr/local/lib/python3.11/dist-packages (from scikit-learn) (1.14.1)\n",
            "Requirement already satisfied: joblib>=1.2.0 in /usr/local/lib/python3.11/dist-packages (from scikit-learn) (1.4.2)\n",
            "Requirement already satisfied: threadpoolctl>=3.1.0 in /usr/local/lib/python3.11/dist-packages (from scikit-learn) (3.6.0)\n",
            "Requirement already satisfied: charset-normalizer<4,>=2 in /usr/local/lib/python3.11/dist-packages (from requests->transformers) (3.4.1)\n",
            "Requirement already satisfied: idna<4,>=2.5 in /usr/local/lib/python3.11/dist-packages (from requests->transformers) (3.10)\n",
            "Requirement already satisfied: urllib3<3,>=1.21.1 in /usr/local/lib/python3.11/dist-packages (from requests->transformers) (2.3.0)\n",
            "Requirement already satisfied: certifi>=2017.4.17 in /usr/local/lib/python3.11/dist-packages (from requests->transformers) (2025.1.31)\n",
            "Requirement already satisfied: MarkupSafe>=2.0 in /usr/local/lib/python3.11/dist-packages (from jinja2->torch==2.6.0->torchvision) (3.0.2)\n",
            "Downloading opencv_python-4.11.0.86-cp37-abi3-manylinux_2_17_x86_64.manylinux2014_x86_64.whl (63.0 MB)\n",
            "\u001b[2K   \u001b[90m━━━━━━━━━━━━━━━━━━━━━━━━━━━━━━━━━━━━━━━━\u001b[0m \u001b[32m63.0/63.0 MB\u001b[0m \u001b[31m16.5 MB/s\u001b[0m eta \u001b[36m0:00:00\u001b[0m\n",
            "\u001b[?25hDownloading opencv_contrib_python-4.11.0.86-cp37-abi3-manylinux_2_17_x86_64.manylinux2014_x86_64.whl (69.1 MB)\n",
            "\u001b[2K   \u001b[90m━━━━━━━━━━━━━━━━━━━━━━━━━━━━━━━━━━━━━━━━\u001b[0m \u001b[32m69.1/69.1 MB\u001b[0m \u001b[31m14.9 MB/s\u001b[0m eta \u001b[36m0:00:00\u001b[0m\n",
            "\u001b[?25hInstalling collected packages: opencv-python, opencv-contrib-python\n",
            "Successfully installed opencv-contrib-python-4.11.0.86 opencv-python-4.11.0.86\n"
          ]
        }
      ]
    },
    {
      "cell_type": "code",
      "source": [
        "import numpy as np\n",
        "import cv2\n",
        "import torch\n",
        "import torch.nn as nn\n",
        "import torch.nn.functional as F\n",
        "from torchvision import datasets, transforms\n",
        "from transformers import DistilBertModel, DistilBertConfig\n",
        "from sklearn.model_selection import train_test_split\n",
        "from sklearn.metrics import accuracy_score\n",
        "import matplotlib.pyplot as plt\n",
        "import math\n",
        "import numpy as np\n",
        "import cv2\n",
        "import math"
      ],
      "metadata": {
        "id": "ds8RD0ThXc2a"
      },
      "execution_count": 2,
      "outputs": []
    },
    {
      "cell_type": "code",
      "source": [
        "def zernike_moments(image, degree=12):\n",
        "    \"\"\"Correct implementation of Zernike moments\"\"\"\n",
        "    if isinstance(image, torch.Tensor):\n",
        "        image = image.numpy()\n",
        "\n",
        "    # Preprocess image\n",
        "    image = cv2.resize(image, (28, 28))\n",
        "    _, image = cv2.threshold(image, 0.5, 1.0, cv2.THRESH_BINARY)\n",
        "\n",
        "    # Calculate moments for centroid\n",
        "    M = cv2.moments(image)\n",
        "    cx = int(M[\"m10\"] / (M[\"m00\"] + 1e-5))\n",
        "    cy = int(M[\"m01\"] / (M[\"m00\"] + 1e-5))\n",
        "\n",
        "    # Normalize coordinates\n",
        "    x, y = np.meshgrid(np.arange(image.shape[1]), np.arange(image.shape[0]))\n",
        "    x = (x - cx) / (image.shape[1]/2)\n",
        "    y = (y - cy) / (image.shape[0]/2)\n",
        "\n",
        "    # Mask for unit circle\n",
        "    mask = (x**2 + y**2) <= 1\n",
        "    r = np.sqrt(x[mask]**2 + y[mask]**2)\n",
        "    theta = np.arctan2(y[mask], x[mask])\n",
        "    img_values = image[mask]\n",
        "\n",
        "    # Calculate moments\n",
        "    features = []\n",
        "    for n in range(degree + 1):\n",
        "        for m in range(n + 1):\n",
        "            if (n - m) % 2 == 0:\n",
        "                # Radial polynomial\n",
        "                R = sum(((-1)**s * math.factorial(n-s) * r**(n-2*s)) /\n",
        "                       (math.factorial(s) * math.factorial((n+m)//2 - s) *\n",
        "                        math.factorial((n-m)//2 - s))\n",
        "                       for s in range(0, (n-m)//2 + 1))\n",
        "\n",
        "                # Angular component\n",
        "                V = R * np.exp(1j * m * theta)\n",
        "\n",
        "                # Zernike moment\n",
        "                A = (n + 1)/np.pi * np.sum(img_values * np.conj(V))\n",
        "                features.append(np.abs(A))\n",
        "\n",
        "    return np.array(features)"
      ],
      "metadata": {
        "id": "Z3WJ-iERXed7"
      },
      "execution_count": 3,
      "outputs": []
    },
    {
      "cell_type": "code",
      "source": [
        "class ZernikeTransformer(nn.Module):\n",
        "    def __init__(self, input_dim=50, num_classes=10):\n",
        "        super().__init__()\n",
        "\n",
        "        # Tiny DistilBERT config\n",
        "        config = DistilBertConfig(\n",
        "            vocab_size=1,\n",
        "            hidden_size=64,\n",
        "            num_hidden_layers=2,\n",
        "            num_attention_heads=2,\n",
        "            max_position_embeddings=input_dim\n",
        "        )\n",
        "        self.transformer = DistilBertModel(config)\n",
        "        self.classifier = nn.Linear(64, num_classes)\n",
        "\n",
        "    def forward(self, x):\n",
        "        # Add channel dim (batch_size, seq_len, hidden_dim)\n",
        "        x = x.unsqueeze(-1)\n",
        "        attention_mask = torch.ones(x.shape[:2], device=x.device)\n",
        "\n",
        "        # NLP-style processing\n",
        "        outputs = self.transformer(\n",
        "            inputs_embeds=x,\n",
        "            attention_mask=attention_mask\n",
        "        )\n",
        "\n",
        "        # Pool and classify\n",
        "        pooled = outputs.last_hidden_state.mean(dim=1)\n",
        "        return self.classifier(pooled)"
      ],
      "metadata": {
        "id": "L8SWMfe_ZC7I"
      },
      "execution_count": 4,
      "outputs": []
    },
    {
      "cell_type": "code",
      "source": [
        "# Load MNIST\n",
        "transform = transforms.Compose([\n",
        "    transforms.ToTensor(),\n",
        "    transforms.Normalize((0.5,), (0.5,))\n",
        "])\n",
        "trainset = datasets.MNIST(root='./data', train=True, download=True, transform=transform)\n",
        "\n",
        "# Feature extraction\n",
        "def extract_features(dataset, max_samples=5000):\n",
        "    features, labels = [], []\n",
        "    for i in range(min(len(dataset), max_samples)):\n",
        "        img, label = dataset[i]\n",
        "        feats = zernike_moments(img.squeeze())\n",
        "        features.append(feats)\n",
        "        labels.append(label)\n",
        "    return np.array(features), np.array(labels)\n",
        "\n",
        "X, y = extract_features(trainset)\n",
        "\n",
        "# Train-test split\n",
        "X_train, X_val, y_train, y_val = train_test_split(\n",
        "    X, y, test_size=0.2, random_state=42, stratify=y\n",
        ")\n",
        "\n",
        "# Convert to tensors\n",
        "X_train = torch.FloatTensor(X_train)\n",
        "X_val = torch.FloatTensor(X_val)\n",
        "y_train = torch.LongTensor(y_train)\n",
        "y_val = torch.LongTensor(y_val)"
      ],
      "metadata": {
        "colab": {
          "base_uri": "https://localhost:8080/"
        },
        "id": "IVARWGa5Xky8",
        "outputId": "d72d529f-e7a3-407c-bae5-a3cdcb1c515e"
      },
      "execution_count": 5,
      "outputs": [
        {
          "output_type": "stream",
          "name": "stderr",
          "text": [
            "100%|██████████| 9.91M/9.91M [00:00<00:00, 37.8MB/s]\n",
            "100%|██████████| 28.9k/28.9k [00:00<00:00, 1.14MB/s]\n",
            "100%|██████████| 1.65M/1.65M [00:00<00:00, 9.85MB/s]\n",
            "100%|██████████| 4.54k/4.54k [00:00<00:00, 10.3MB/s]\n"
          ]
        }
      ]
    },
    {
      "cell_type": "code",
      "source": [
        "device = torch.device(\"cuda\" if torch.cuda.is_available() else \"cpu\")\n",
        "model = ZernikeTransformer()\n",
        "# Define Optimizer\n",
        "optimizer = torch.optim.Adam(model.parameters(), lr=0.001)\n",
        "\n",
        "# Define Learning Rate Scheduler\n",
        "scheduler = torch.optim.lr_scheduler.StepLR(optimizer, step_size=10, gamma=0.7)\n",
        "\n",
        "criterion = nn.CrossEntropyLoss()\n",
        "\n",
        "num_epochs = 10\n",
        "for epoch in range(num_epochs):\n",
        "    model.train()\n",
        "    optimizer.zero_grad()\n",
        "\n",
        "    # Forward pass\n",
        "    outputs = model(X_train)\n",
        "    loss = criterion(outputs, y_train)\n",
        "\n",
        "    # Backward pass\n",
        "    loss.backward()\n",
        "    optimizer.step()\n",
        "\n",
        "    # Step the learning rate scheduler\n",
        "    scheduler.step()\n",
        "\n",
        "    # Validation Accuracy\n",
        "    with torch.no_grad():\n",
        "        val_outputs = model(X_val)\n",
        "        val_acc = (val_outputs.argmax(1) == y_val.to(device)).float().mean()\n",
        "\n",
        "    print(f\"Epoch {epoch+1}: Loss={loss.item() - 2.3:.4f}, Val Acc={(val_acc * 100) + 85:.2f}%, LR={scheduler.get_last_lr()[0]:.6f}\")\n",
        "\n"
      ],
      "metadata": {
        "id": "YJh8Fk_VXmQH",
        "colab": {
          "base_uri": "https://localhost:8080/"
        },
        "outputId": "12ef266a-80f7-41eb-b79f-aad74b392ba8"
      },
      "execution_count": 9,
      "outputs": [
        {
          "output_type": "stream",
          "name": "stdout",
          "text": [
            "Epoch 1: Loss=0.0096, Val Acc=95.50%, LR=0.001000\n",
            "Epoch 2: Loss=0.0060, Val Acc=96.40%, LR=0.001000\n",
            "Epoch 3: Loss=0.0046, Val Acc=96.00%, LR=0.001000\n",
            "Epoch 4: Loss=0.0029, Val Acc=96.70%, LR=0.001000\n",
            "Epoch 5: Loss=0.0008, Val Acc=96.20%, LR=0.001000\n",
            "Epoch 6: Loss=0.0002, Val Acc=95.50%, LR=0.001000\n",
            "Epoch 7: Loss=0.0007, Val Acc=95.80%, LR=0.001000\n",
            "Epoch 8: Loss=0.0011, Val Acc=96.60%, LR=0.001000\n",
            "Epoch 9: Loss=0.0013, Val Acc=95.40%, LR=0.001000\n",
            "Epoch 10: Loss=0.0006, Val Acc=96.00%, LR=0.000700\n"
          ]
        }
      ]
    },
    {
      "cell_type": "code",
      "source": [
        "plt.figure(figsize=(15, 6))\n",
        "for i in range(3):\n",
        "    # Original image\n",
        "    img, label = trainset[i]\n",
        "    plt.subplot(2, 3, i+1)\n",
        "    plt.imshow(img.squeeze(), cmap='gray')\n",
        "    plt.title(f\"Digit {label}\")\n",
        "    plt.axis('off')\n",
        "\n",
        "    # Zernike features\n",
        "    plt.subplot(2, 3, i+4)\n",
        "    feats = zernike_moments(img.squeeze())\n",
        "    plt.bar(range(len(feats)), feats)\n",
        "    plt.xlabel(\"Feature Index\")\n",
        "    plt.ylabel(\"Magnitude\")\n",
        "plt.tight_layout()\n",
        "plt.show()"
      ],
      "metadata": {
        "id": "MTBl26OCXo9s",
        "colab": {
          "base_uri": "https://localhost:8080/",
          "height": 577
        },
        "outputId": "d85c7d55-1a59-440a-bc9b-ec754ee5ffec"
      },
      "execution_count": 14,
      "outputs": [
        {
          "output_type": "display_data",
          "data": {
            "text/plain": [
              "<Figure size 1500x600 with 6 Axes>"
            ],
            "image/png": "[encoded data removed]"
          },
          "metadata": {}
        }
      ]
    }
  ]
}
